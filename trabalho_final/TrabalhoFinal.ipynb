{
  "nbformat": 4,
  "nbformat_minor": 0,
  "metadata": {
    "colab": {
      "provenance": []
    },
    "kernelspec": {
      "name": "python3",
      "display_name": "Python 3"
    },
    "language_info": {
      "name": "python"
    }
  },
  "cells": [
    {
      "cell_type": "code",
      "source": [
        "!pip install -U gdown langchain langchain-community langchain-openai chromadb openai tiktoken langchain-text-splitters streamlit langchain-openai langchain-google-community pyngrok chardet --quiet\n"
      ],
      "metadata": {
        "id": "fAmuuliI24dV"
      },
      "execution_count": null,
      "outputs": []
    },
    {
      "cell_type": "code",
      "source": [
        "destino_dir=\"/content/dados_nfe\"\n",
        "persist_dir=\"/content/chroma_nfe\""
      ],
      "metadata": {
        "id": "5nunkivN2_-C"
      },
      "execution_count": 2,
      "outputs": []
    },
    {
      "cell_type": "code",
      "source": [
        "import os\n",
        "from google.colab import userdata\n",
        "# Pega a chave armazenada nos secrets do Colab\n",
        "api_key = userdata.get(\"OPENAI_API_KEY\")\n",
        "\n",
        "# Injeta no ambiente para o LangChain reconhecer\n",
        "os.environ[\"OPENAI_API_KEY\"] = api_key\n",
        "# Substitua \"sua-chave\" pela sua OpenAI API Key"
      ],
      "metadata": {
        "id": "JdZe5pSp3DS4"
      },
      "execution_count": 3,
      "outputs": []
    },
    {
      "cell_type": "code",
      "execution_count": 5,
      "metadata": {
        "colab": {
          "base_uri": "https://localhost:8080/"
        },
        "id": "mnNuhtVWwGqn",
        "outputId": "b521fd3d-bcfe-446e-8c21-73dd68bc54a6"
      },
      "outputs": [
        {
          "output_type": "stream",
          "name": "stdout",
          "text": [
            "✅ Secrets carregados no ambiente.\n",
            "Aguardando o Streamlit iniciar... ⏳\n",
            "=====================================================================================\n",
            "✅ SEU APLICATIVO ESTÁ NO AR! ACESSE AQUI: NgrokTunnel: \"https://31e54bac2056.ngrok-free.app\" -> \"http://localhost:8501\"\n",
            "=====================================================================================\n"
          ]
        }
      ],
      "source": [
        "import os\n",
        "from google.colab import userdata\n",
        "from pyngrok import ngrok\n",
        "\n",
        "# 1. PEGA TODOS OS SECRETS AQUI NA CÉLULA\n",
        "try:\n",
        "    # Chaves da OpenAI e Google\n",
        "    os.environ[\"OPENAI_API_KEY\"] = userdata.get(\"OPENAI_API_KEY\")\n",
        "    os.environ[\"GCS_API_KEY\"] = userdata.get(\"GCS_API_KEY\")\n",
        "    os.environ[\"GCS_CX\"] = userdata.get(\"GCS_CX\")\n",
        "\n",
        "    # Chave do Ngrok\n",
        "    authtoken = userdata.get('NGROK_AUTHTOKEN')\n",
        "    ngrok.set_auth_token(authtoken)\n",
        "\n",
        "    print(\"✅ Secrets carregados no ambiente.\")\n",
        "\n",
        "except Exception as e:\n",
        "    print(f\"❌ Erro ao carregar secrets: {e}\")\n",
        "    print(\"Verifique se todas as 4 chaves (OPENAI, GCS_API_KEY, GCS_CX, NGROK_AUTHTOKEN) estão salvas corretamente.\")\n",
        "\n",
        "\n",
        "# Mata qualquer túnel ngrok que já esteja rodando\n",
        "ngrok.kill()\n",
        "\n",
        "# Roda o app Streamlit em background\n",
        "!nohup streamlit run agente_interface.py &> streamlit.log &\n",
        "\n",
        "# Espera para o Streamlit iniciar\n",
        "import time\n",
        "print(\"Aguardando o Streamlit iniciar... ⏳\")\n",
        "time.sleep(5)\n",
        "\n",
        "# Cria o túnel e mostra o link público (agora autenticado!)\n",
        "public_url = ngrok.connect(8501)\n",
        "print(\"=====================================================================================\")\n",
        "print(f\"✅ SEU APLICATIVO ESTÁ NO AR! ACESSE AQUI: {public_url}\")\n",
        "print(\"=====================================================================================\")"
      ]
    }
  ]
}